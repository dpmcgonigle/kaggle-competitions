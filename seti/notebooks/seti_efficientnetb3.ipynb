{
 "cells": [
  {
   "cell_type": "markdown",
   "metadata": {},
   "source": [
    "<br>\n",
    "<h1 style = \"font-size:60px; font-family:Monaco ; font-weight : normal; background-color: #000055 ; color : #9999ff; text-align: center; border-radius: 50px 50px;\">SETI - Breakthrough Listen<br>EfficientNet B3</h1>\n",
    "<br>\n",
    "\n",
    "## Description of problem\n",
    "The vast distances between stars/galaxies and the dramatic effects of the inverse square law make finding electromagnetic signals of intelligent civilizations a challenging task.  Breakthroughs in machine learning using computer vision and time series analysis are tools that may bring us closer to achieving this goal.  The purpose of this notebook, and the greater experiment that this notebook belongs to is to attempt to push the state of the art ever closer to realizing this goal.\n",
    "\n",
    "## Seti Breakthrough-Listen Dataset\n",
    "The purpose of this notebook is to use a pre-trained efficient-net model to classify cadence samples as negative or positive(anomolous signal).  The data consists of \"cadence snippets taken from the Green Bank Telescope\", which is a digital spectrometer that generates spectrograms using the Fourier Transform technique.  The data represent signal intensity as a function of frequency and time.  \n",
    "\n",
    "The \"Cadence\" is described in the \"Data Information\" section of the competition:  \n",
    "5 minutes on star “A”, then 5 minutes on star “B”, then back to star “A” for 5 minutes, then “C”, then back to “A”, then finishing with 5 minutes on star “D”. One set of six observations (ABACAD) is referred to as a “cadence”.  \n",
    "\n",
    "The shape of the data is (6, 273, 256), where 273 represents the time (5 minutes) dimension, and 256 represents the frequency dimension.  \n",
    "\n",
    "\n",
    "## This notebook originally created by: \n",
    "https://www.kaggle.com/anirudhg15/seti-et-baseline-efficientnetb3"
   ]
  },
  {
   "cell_type": "code",
   "execution_count": 61,
   "metadata": {},
   "outputs": [],
   "source": [
    "# Imports\n",
    "import os\n",
    "import math\n",
    "import numpy as np\n",
    "import pandas as pd\n",
    "from typing import List, Dict, Callable\n",
    "\n",
    "# DL Modules\n",
    "import tensorflow as tf\n",
    "from tensorflow import keras\n",
    "import efficientnet.tfkeras as efn\n",
    "\n",
    "# ML / Data Prep\n",
    "import sklearn\n",
    "from sklearn import model_selection\n",
    "from sklearn.metrics import accuracy_score, f1_score, roc_auc_score\n",
    "\n",
    "# Visualizations\n",
    "import matplotlib.pyplot as plt\n",
    "%matplotlib inline"
   ]
  },
  {
   "cell_type": "code",
   "execution_count": 3,
   "metadata": {},
   "outputs": [
    {
     "name": "stdout",
     "output_type": "stream",
     "text": [
      "WARNING:tensorflow:From <ipython-input-3-008ed82026e4>:2: is_gpu_available (from tensorflow.python.framework.test_util) is deprecated and will be removed in a future version.\n",
      "Instructions for updating:\n",
      "Use `tf.config.list_physical_devices('GPU')` instead.\n"
     ]
    },
    {
     "data": {
      "text/plain": [
       "True"
      ]
     },
     "execution_count": 3,
     "metadata": {},
     "output_type": "execute_result"
    }
   ],
   "source": [
    "# Test if GPU available\n",
    "tf.test.is_gpu_available()"
   ]
  },
  {
   "cell_type": "code",
   "execution_count": 4,
   "metadata": {},
   "outputs": [],
   "source": [
    "datadir: str = \"/data/data/datasets/seti/\"\n",
    "train_labels: pd.DataFrame = pd.read_csv(os.path.join(datadir, \"train_labels.csv\"))"
   ]
  },
  {
   "cell_type": "code",
   "execution_count": 5,
   "metadata": {},
   "outputs": [],
   "source": [
    "def id_to_path(sample_id: str) -> str:\n",
    "    \"\"\" Return full path to numpy file from sample id \"\"\"\n",
    "    return os.path.join(datadir, \"train\", sample_id[0], f\"{sample_id}.npy\")"
   ]
  },
  {
   "cell_type": "code",
   "execution_count": 6,
   "metadata": {},
   "outputs": [
    {
     "name": "stdout",
     "output_type": "stream",
     "text": [
      "LENGTHS ; X_train : 38400, X_val (9600,), X_test (12000,)\n",
      "Number of positive samples ; y_train : 3840, y_val: 960, y_test: 1200\n",
      "Ratio of positive samples ; y_train : 0.100, y_val: 0.100, y_test: 0.100\n"
     ]
    }
   ],
   "source": [
    "X = train_labels['id'].values\n",
    "y = train_labels['target'].values\n",
    "\n",
    "X_trainval, X_test, y_trainval, y_test = model_selection.train_test_split(\n",
    "    X, \n",
    "    y, \n",
    "    test_size=.2, \n",
    "    random_state=42, \n",
    "    stratify=y\n",
    ")\n",
    "\n",
    "X_train, X_val, y_train, y_val = model_selection.train_test_split(\n",
    "    X_trainval, \n",
    "    y_trainval, \n",
    "    test_size=.2, \n",
    "    random_state=42, \n",
    "    stratify=y_trainval\n",
    ")\n",
    "\n",
    "print(f\"LENGTHS ; X_train : {len(X_train)}, X_val {X_val.shape}, X_test {X_test.shape}\")\n",
    "print(f\"Number of positive samples ; y_train : {np.sum(y_train==1)}, y_val: {np.sum(y_val==1)}, y_test: {np.sum(y_test==1)}\")\n",
    "print(f\"Ratio of positive samples ; y_train : {np.sum(y_train==1)/len(y_train):.3f}, y_val: {np.sum(y_val==1)/len(y_val):.3f}, y_test: {np.sum(y_test==1)/len(y_test):.3f}\")"
   ]
  },
  {
   "cell_type": "code",
   "execution_count": 7,
   "metadata": {},
   "outputs": [
    {
     "data": {
      "text/plain": [
       "array(['0add6ccf9b2e9ce', '1e4cb3f498e29ca', 'b6606b085a618f1'],\n",
       "      dtype=object)"
      ]
     },
     "execution_count": 7,
     "metadata": {},
     "output_type": "execute_result"
    }
   ],
   "source": [
    "X_train[:3]"
   ]
  },
  {
   "cell_type": "markdown",
   "metadata": {},
   "source": [
    "### Dataset class"
   ]
  },
  {
   "cell_type": "code",
   "execution_count": 8,
   "metadata": {},
   "outputs": [],
   "source": [
    "class DataGenerator(keras.utils.Sequence):\n",
    "    def __init__(self, x_set, y_set=None, batch_size=32):\n",
    "        self.x , self.y = x_set, y_set\n",
    "        self.batch_size = batch_size\n",
    "        self.is_train = False if y_set is None else True\n",
    "        \n",
    "    def __len__(self):\n",
    "        return math.ceil(len(self.x) / self.batch_size)\n",
    "    \n",
    "    def __getitem__(self, idx):\n",
    "        batch_ids = self.x[idx * self.batch_size: (idx + 1) * self.batch_size]\n",
    "        if self.y is not None:\n",
    "            batch_y = self.y[idx * self.batch_size: (idx + 1) * self.batch_size]\n",
    "        \n",
    "        list_x = [np.load(id_to_path(x))[::2] for x in batch_ids]\n",
    "        batch_x = np.moveaxis(list_x,1,-1)\n",
    "        batch_x = batch_x.astype(\"float\") / 255\n",
    "        \n",
    "        if self.is_train:\n",
    "            return batch_x, batch_y\n",
    "        else:\n",
    "            return batch_x"
   ]
  },
  {
   "cell_type": "markdown",
   "metadata": {},
   "source": [
    "### Model Hyperparams"
   ]
  },
  {
   "cell_type": "code",
   "execution_count": 9,
   "metadata": {},
   "outputs": [],
   "source": [
    "input_size = (273, 256, 3)\n",
    "batch_size = 16\n",
    "n_epoch = 2\n",
    "seed = 42"
   ]
  },
  {
   "cell_type": "markdown",
   "metadata": {},
   "source": [
    "### Model Definition"
   ]
  },
  {
   "cell_type": "code",
   "execution_count": 9,
   "metadata": {},
   "outputs": [
    {
     "name": "stdout",
     "output_type": "stream",
     "text": [
      "Model: \"sequential\"\n",
      "_________________________________________________________________\n",
      "Layer (type)                 Output Shape              Param #   \n",
      "=================================================================\n",
      "efficientnet-b3 (Model)      (None, 9, 8, 1536)        10783528  \n",
      "_________________________________________________________________\n",
      "global_average_pooling2d (Gl (None, 1536)              0         \n",
      "_________________________________________________________________\n",
      "dense (Dense)                (None, 1)                 1537      \n",
      "=================================================================\n",
      "Total params: 10,785,065\n",
      "Trainable params: 10,697,769\n",
      "Non-trainable params: 87,296\n",
      "_________________________________________________________________\n"
     ]
    }
   ],
   "source": [
    "model = tf.keras.Sequential([\n",
    "        efn.EfficientNetB3(input_shape=input_size,weights='imagenet',include_top=False),\n",
    "        keras.layers.GlobalAveragePooling2D(),\n",
    "        keras.layers.Dense(1, activation='sigmoid')\n",
    "        ])\n",
    "\n",
    "model.summary()\n",
    "model.compile(optimizer=keras.optimizers.Adam(learning_rate=1e-4),\n",
    "              loss='binary_crossentropy', metrics=[keras.metrics.AUC()])"
   ]
  },
  {
   "cell_type": "markdown",
   "metadata": {},
   "source": [
    "### Model Training"
   ]
  },
  {
   "cell_type": "code",
   "execution_count": 10,
   "metadata": {},
   "outputs": [],
   "source": [
    "train = DataGenerator(X_train, y_train, batch_size=batch_size)\n",
    "val = DataGenerator(X_val, y_val, batch_size=batch_size)\n",
    "test = DataGenerator(X_test, batch_size=batch_size)"
   ]
  },
  {
   "cell_type": "code",
   "execution_count": null,
   "metadata": {},
   "outputs": [],
   "source": [
    "model.fit(train, validation_data=val, epochs=n_epoch)"
   ]
  },
  {
   "cell_type": "markdown",
   "metadata": {},
   "source": [
    "### Save model"
   ]
  },
  {
   "cell_type": "code",
   "execution_count": 11,
   "metadata": {
    "scrolled": true
   },
   "outputs": [
    {
     "name": "stdout",
     "output_type": "stream",
     "text": [
      "WARNING:tensorflow:From /home/dan/anaconda3/envs/kaggle3811/lib/python3.8/site-packages/tensorflow/python/ops/resource_variable_ops.py:1813: calling BaseResourceVariable.__init__ (from tensorflow.python.ops.resource_variable_ops) with constraint is deprecated and will be removed in a future version.\n",
      "Instructions for updating:\n",
      "If using Keras pass *_constraint arguments to layers.\n",
      "INFO:tensorflow:Assets written to: models/effnet_cadences_E2/assets\n"
     ]
    }
   ],
   "source": [
    "model.save(os.path.join(\"models\", \"effnet_cadences_E2\"))"
   ]
  },
  {
   "cell_type": "markdown",
   "metadata": {},
   "source": [
    "### Test model"
   ]
  },
  {
   "cell_type": "code",
   "execution_count": 12,
   "metadata": {},
   "outputs": [],
   "source": [
    "preds_test = model.predict(test).flatten()"
   ]
  },
  {
   "cell_type": "code",
   "execution_count": 18,
   "metadata": {},
   "outputs": [
    {
     "data": {
      "text/plain": [
       "array([0, 0, 0, 0], dtype=uint8)"
      ]
     },
     "execution_count": 18,
     "metadata": {},
     "output_type": "execute_result"
    }
   ],
   "source": [
    "np.round(preds_test[:4]).astype(np.uint8)"
   ]
  },
  {
   "cell_type": "code",
   "execution_count": 16,
   "metadata": {},
   "outputs": [
    {
     "data": {
      "text/plain": [
       "array([0, 0, 0, 0])"
      ]
     },
     "execution_count": 16,
     "metadata": {},
     "output_type": "execute_result"
    }
   ],
   "source": [
    "y_test[:4]"
   ]
  },
  {
   "cell_type": "code",
   "execution_count": 19,
   "metadata": {},
   "outputs": [
    {
     "data": {
      "text/plain": [
       "0.9190833333333334"
      ]
     },
     "execution_count": 19,
     "metadata": {},
     "output_type": "execute_result"
    }
   ],
   "source": [
    "acc = accuracy_score(y_test, np.round(preds_test).astype(np.int32))\n",
    "acc"
   ]
  },
  {
   "cell_type": "markdown",
   "metadata": {},
   "source": [
    "### Continue training"
   ]
  },
  {
   "cell_type": "code",
   "execution_count": 20,
   "metadata": {},
   "outputs": [
    {
     "name": "stdout",
     "output_type": "stream",
     "text": [
      "Epoch 1/2\n",
      "2400/2400 [==============================] - 533s 222ms/step - loss: 0.2391 - auc: 0.7988 - val_loss: 0.2788 - val_auc: 0.7017\n",
      "Epoch 2/2\n",
      "2400/2400 [==============================] - 530s 221ms/step - loss: 0.1944 - auc: 0.8818 - val_loss: 0.3100 - val_auc: 0.6972\n"
     ]
    },
    {
     "data": {
      "text/plain": [
       "<tensorflow.python.keras.callbacks.History at 0x7fa04c06ab80>"
      ]
     },
     "execution_count": 20,
     "metadata": {},
     "output_type": "execute_result"
    }
   ],
   "source": [
    "model.fit(train, validation_data=val, epochs=n_epoch)"
   ]
  },
  {
   "cell_type": "code",
   "execution_count": 21,
   "metadata": {},
   "outputs": [
    {
     "data": {
      "text/plain": [
       "0.9205833333333333"
      ]
     },
     "execution_count": 21,
     "metadata": {},
     "output_type": "execute_result"
    }
   ],
   "source": [
    "preds_test = model.predict(test).flatten()\n",
    "acc = accuracy_score(y_test, np.round(preds_test).astype(np.int32))\n",
    "acc"
   ]
  },
  {
   "cell_type": "code",
   "execution_count": 22,
   "metadata": {},
   "outputs": [
    {
     "name": "stdout",
     "output_type": "stream",
     "text": [
      "INFO:tensorflow:Assets written to: models/effnet_cadences_E4/assets\n"
     ]
    }
   ],
   "source": [
    "model.save(os.path.join(\"models\", \"effnet_cadences_E4\"))"
   ]
  },
  {
   "cell_type": "code",
   "execution_count": 23,
   "metadata": {},
   "outputs": [
    {
     "name": "stdout",
     "output_type": "stream",
     "text": [
      "Epoch 1/2\n",
      "2400/2400 [==============================] - 529s 221ms/step - loss: 0.1382 - auc: 0.9461 - val_loss: 0.3693 - val_auc: 0.6844\n",
      "Epoch 2/2\n",
      "2400/2400 [==============================] - 530s 221ms/step - loss: 0.0862 - auc: 0.9818 - val_loss: 0.5456 - val_auc: 0.6706\n",
      "TEST ACCURACY AFTER EPOCH {epoch} : {acc:.6f}\n",
      "INFO:tensorflow:Assets written to: models/effnet_cadences_E6/assets\n",
      "Epoch 1/2\n",
      "2400/2400 [==============================] - 529s 221ms/step - loss: 0.0649 - auc: 0.9887 - val_loss: 0.6125 - val_auc: 0.6735\n",
      "Epoch 2/2\n",
      "2400/2400 [==============================] - 532s 222ms/step - loss: 0.0519 - auc: 0.9919 - val_loss: 0.6450 - val_auc: 0.6713\n",
      "TEST ACCURACY AFTER EPOCH {epoch} : {acc:.6f}\n",
      "INFO:tensorflow:Assets written to: models/effnet_cadences_E8/assets\n",
      "Epoch 1/2\n",
      "2400/2400 [==============================] - 528s 220ms/step - loss: 0.0450 - auc: 0.9931 - val_loss: 0.6862 - val_auc: 0.6599\n",
      "Epoch 2/2\n",
      "2400/2400 [==============================] - 517s 215ms/step - loss: 0.0396 - auc: 0.9949 - val_loss: 0.7100 - val_auc: 0.6593\n",
      "TEST ACCURACY AFTER EPOCH {epoch} : {acc:.6f}\n",
      "INFO:tensorflow:Assets written to: models/effnet_cadences_E10/assets\n",
      "Epoch 1/2\n",
      "2400/2400 [==============================] - 516s 215ms/step - loss: 0.0367 - auc: 0.9951 - val_loss: 0.7511 - val_auc: 0.6687\n",
      "Epoch 2/2\n",
      "2400/2400 [==============================] - 516s 215ms/step - loss: 0.0352 - auc: 0.9951 - val_loss: 0.7418 - val_auc: 0.6589\n",
      "TEST ACCURACY AFTER EPOCH {epoch} : {acc:.6f}\n",
      "INFO:tensorflow:Assets written to: models/effnet_cadences_E12/assets\n",
      "Epoch 1/2\n",
      "2400/2400 [==============================] - 529s 221ms/step - loss: 0.0317 - auc: 0.9968 - val_loss: 0.8211 - val_auc: 0.6674\n",
      "Epoch 2/2\n",
      "2400/2400 [==============================] - 536s 223ms/step - loss: 0.0306 - auc: 0.9963 - val_loss: 0.7570 - val_auc: 0.6631\n",
      "TEST ACCURACY AFTER EPOCH {epoch} : {acc:.6f}\n",
      "INFO:tensorflow:Assets written to: models/effnet_cadences_E14/assets\n",
      "Epoch 1/2\n",
      "2400/2400 [==============================] - 530s 221ms/step - loss: 0.0274 - auc: 0.9971 - val_loss: 0.8593 - val_auc: 0.6597\n",
      "Epoch 2/2\n",
      "2400/2400 [==============================] - 528s 220ms/step - loss: 0.0273 - auc: 0.9974 - val_loss: 0.8447 - val_auc: 0.6683\n",
      "TEST ACCURACY AFTER EPOCH {epoch} : {acc:.6f}\n",
      "INFO:tensorflow:Assets written to: models/effnet_cadences_E16/assets\n",
      "Epoch 1/2\n",
      "2400/2400 [==============================] - 522s 217ms/step - loss: 0.0244 - auc: 0.9968 - val_loss: 0.7945 - val_auc: 0.6753\n",
      "Epoch 2/2\n",
      "2400/2400 [==============================] - 520s 217ms/step - loss: 0.0239 - auc: 0.9971 - val_loss: 0.9058 - val_auc: 0.6650\n",
      "TEST ACCURACY AFTER EPOCH {epoch} : {acc:.6f}\n",
      "INFO:tensorflow:Assets written to: models/effnet_cadences_E18/assets\n",
      "Epoch 1/2\n",
      "2400/2400 [==============================] - 521s 217ms/step - loss: 0.0239 - auc: 0.9966 - val_loss: 0.9193 - val_auc: 0.6665\n",
      "Epoch 2/2\n",
      "2400/2400 [==============================] - 522s 218ms/step - loss: 0.0217 - auc: 0.9967 - val_loss: 0.8649 - val_auc: 0.6520\n",
      "TEST ACCURACY AFTER EPOCH {epoch} : {acc:.6f}\n",
      "INFO:tensorflow:Assets written to: models/effnet_cadences_E20/assets\n"
     ]
    }
   ],
   "source": [
    "for epoch in range(6, 21, 2):\n",
    "    model.fit(train, validation_data=val, epochs=n_epoch)\n",
    "    preds_test = model.predict(test).flatten()\n",
    "    acc = accuracy_score(y_test, np.round(preds_test).astype(np.int32))\n",
    "    print(\"TEST ACCURACY AFTER EPOCH {epoch} : {acc:.6f}\")\n",
    "    model.save(os.path.join(\"models\", f\"effnet_cadences_E{epoch}\"))"
   ]
  },
  {
   "cell_type": "markdown",
   "metadata": {},
   "source": [
    "### <font color='green'>^ forgot the 'f' in 'f-string'.  Whoops! ^</font>"
   ]
  },
  {
   "cell_type": "markdown",
   "metadata": {},
   "source": [
    "# <font color='red'>BREAK:</font> Close webpage, reload model"
   ]
  },
  {
   "cell_type": "code",
   "execution_count": 10,
   "metadata": {},
   "outputs": [],
   "source": [
    "model = keras.models.load_model(os.path.join(\"models\", f\"effnet_cadences_E20\"))"
   ]
  },
  {
   "cell_type": "code",
   "execution_count": 11,
   "metadata": {},
   "outputs": [
    {
     "name": "stdout",
     "output_type": "stream",
     "text": [
      "TEST ACCURACY AFTER EPOCH 20 : 0.905833\n"
     ]
    }
   ],
   "source": [
    "preds_test = model.predict(test).flatten()\n",
    "acc = accuracy_score(y_test, np.round(preds_test).astype(np.int32))\n",
    "print(f\"TEST ACCURACY AFTER EPOCH 20 : {acc:.6f}\")"
   ]
  },
  {
   "cell_type": "markdown",
   "metadata": {},
   "source": [
    "# Let's evaluate each of the saved models"
   ]
  },
  {
   "cell_type": "code",
   "execution_count": 11,
   "metadata": {},
   "outputs": [
    {
     "name": "stdout",
     "output_type": "stream",
     "text": [
      "TEST ACCURACY AFTER EPOCH 2 : 0.919083; F1 : 0.334476, Positive Preds : 259\n",
      "TEST ACCURACY AFTER EPOCH 4 : 0.920583; F1 : 0.394921, Positive Preds : 375\n",
      "TEST ACCURACY AFTER EPOCH 6 : 0.908167; F1 : 0.371005, Positive Preds : 552\n",
      "TEST ACCURACY AFTER EPOCH 8 : 0.906833; F1 : 0.346963, Positive Preds : 512\n",
      "TEST ACCURACY AFTER EPOCH 10 : 0.899583; F1 : 0.365456, Positive Preds : 699\n",
      "TEST ACCURACY AFTER EPOCH 12 : 0.896417; F1 : 0.362237, Positive Preds : 749\n",
      "TEST ACCURACY AFTER EPOCH 14 : 0.898167; F1 : 0.365524, Positive Preds : 726\n",
      "TEST ACCURACY AFTER EPOCH 16 : 0.896500; F1 : 0.383929, Positive Preds : 816\n",
      "TEST ACCURACY AFTER EPOCH 18 : 0.906083; F1 : 0.383142, Positive Preds : 627\n",
      "TEST ACCURACY AFTER EPOCH 20 : 0.905833; F1 : 0.369420, Positive Preds : 592\n"
     ]
    }
   ],
   "source": [
    "preds: Dict[int, np.array] = {}\n",
    "for epoch in range(2, 21, 2):\n",
    "    model = keras.models.load_model(os.path.join(\"models\", f\"effnet_cadences_E{epoch}\"))\n",
    "    preds[epoch] = model.predict(test).flatten()\n",
    "    acc = accuracy_score(y_test, np.round(preds[epoch]).astype(np.int32))\n",
    "    f1 = f1_score(y_test, np.round(preds[epoch]).astype(np.int32))\n",
    "    pos_preds = np.sum(np.round(preds[epoch]).astype(np.int32))\n",
    "    print(f\"TEST ACCURACY AFTER EPOCH {epoch} : {acc:.6f}; F1 : {f1:.6f}, Positive Preds : {pos_preds}\")"
   ]
  },
  {
   "cell_type": "markdown",
   "metadata": {},
   "source": [
    "# <font color='red'>Not predicting enough positives!</font>"
   ]
  },
  {
   "cell_type": "code",
   "execution_count": 13,
   "metadata": {},
   "outputs": [
    {
     "name": "stdout",
     "output_type": "stream",
     "text": [
      "Epoch 16's 816 of 12000 is only a ratio of 0.068; need ratio of 0.1\n"
     ]
    }
   ],
   "source": [
    "print(f\"Epoch 16's 816 of {len(y_test)} is only a ratio of {816/len(y_test):.3f}; need ratio of 0.1\")"
   ]
  },
  {
   "cell_type": "markdown",
   "metadata": {},
   "source": [
    "# Let's look at TP, FP, TN, FN for E4"
   ]
  },
  {
   "cell_type": "code",
   "execution_count": 19,
   "metadata": {},
   "outputs": [],
   "source": [
    "preds4 = np.round(preds[4]).astype(np.int32)"
   ]
  },
  {
   "cell_type": "code",
   "execution_count": 22,
   "metadata": {},
   "outputs": [
    {
     "data": {
      "text/plain": [
       "375"
      ]
     },
     "execution_count": 22,
     "metadata": {},
     "output_type": "execute_result"
    }
   ],
   "source": [
    "np.sum(preds4)"
   ]
  },
  {
   "cell_type": "code",
   "execution_count": 26,
   "metadata": {},
   "outputs": [
    {
     "data": {
      "text/plain": [
       "1200"
      ]
     },
     "execution_count": 26,
     "metadata": {},
     "output_type": "execute_result"
    }
   ],
   "source": [
    "np.sum(y_test)"
   ]
  },
  {
   "cell_type": "code",
   "execution_count": 27,
   "metadata": {},
   "outputs": [
    {
     "data": {
      "text/plain": [
       "311"
      ]
     },
     "execution_count": 27,
     "metadata": {},
     "output_type": "execute_result"
    }
   ],
   "source": [
    "np.sum((preds4==1)&(y_test==1))"
   ]
  },
  {
   "cell_type": "code",
   "execution_count": 28,
   "metadata": {},
   "outputs": [
    {
     "data": {
      "text/plain": [
       "311"
      ]
     },
     "execution_count": 28,
     "metadata": {},
     "output_type": "execute_result"
    }
   ],
   "source": [
    "TP: int = np.sum((preds4==1)&(y_test==1))\n",
    "TP"
   ]
  },
  {
   "cell_type": "code",
   "execution_count": 29,
   "metadata": {},
   "outputs": [
    {
     "data": {
      "text/plain": [
       "64"
      ]
     },
     "execution_count": 29,
     "metadata": {},
     "output_type": "execute_result"
    }
   ],
   "source": [
    "FP: int = np.sum(preds4) - TP\n",
    "FP"
   ]
  },
  {
   "cell_type": "code",
   "execution_count": 30,
   "metadata": {},
   "outputs": [
    {
     "data": {
      "text/plain": [
       "10736"
      ]
     },
     "execution_count": 30,
     "metadata": {},
     "output_type": "execute_result"
    }
   ],
   "source": [
    "TN: int = np.sum((preds4==0)&(y_test==0))\n",
    "TN"
   ]
  },
  {
   "cell_type": "code",
   "execution_count": 33,
   "metadata": {},
   "outputs": [
    {
     "data": {
      "text/plain": [
       "889"
      ]
     },
     "execution_count": 33,
     "metadata": {},
     "output_type": "execute_result"
    }
   ],
   "source": [
    "FN: int = (len(y_test) - np.sum(preds4)) - TN\n",
    "FN"
   ]
  },
  {
   "cell_type": "code",
   "execution_count": 37,
   "metadata": {},
   "outputs": [],
   "source": [
    "cm = sklearn.metrics.confusion_matrix(y_test, preds4)"
   ]
  },
  {
   "cell_type": "code",
   "execution_count": 52,
   "metadata": {},
   "outputs": [
    {
     "data": {
      "image/png": "[encoded data removed]",
      "text/plain": [
       "<Figure size 288x288 with 1 Axes>"
      ]
     },
     "metadata": {
      "needs_background": "light"
     },
     "output_type": "display_data"
    }
   ],
   "source": [
    "#\n",
    "# Print the confusion matrix using Matplotlib\n",
    "#\n",
    "fig, ax = plt.subplots(figsize=(4,4))\n",
    "ax.matshow(cm, cmap=plt.cm.Blues, alpha=0.3)\n",
    "for i in range(cm.shape[0]):\n",
    "    for j in range(cm.shape[1]):\n",
    "        ax.text(x=j, y=i,s=cm[i, j], va='center', ha='center', size='xx-large')\n",
    "\n",
    "plt.xlabel('Predictions', fontsize=18)\n",
    "plt.ylabel('Actuals', fontsize=18)\n",
    "plt.title('Confusion Matrix', fontsize=18)\n",
    "plt.show()"
   ]
  },
  {
   "cell_type": "code",
   "execution_count": 44,
   "metadata": {},
   "outputs": [
    {
     "data": {
      "text/plain": [
       "array([[0.994, 0.006],\n",
       "       [0.741, 0.259]])"
      ]
     },
     "execution_count": 44,
     "metadata": {},
     "output_type": "execute_result"
    }
   ],
   "source": [
    "np.round(cm, 3)"
   ]
  },
  {
   "cell_type": "code",
   "execution_count": 51,
   "metadata": {},
   "outputs": [
    {
     "data": {
      "image/png": "[encoded data removed]",
      "text/plain": [
       "<Figure size 288x288 with 1 Axes>"
      ]
     },
     "metadata": {
      "needs_background": "light"
     },
     "output_type": "display_data"
    }
   ],
   "source": [
    "cm = np.round(sklearn.metrics.confusion_matrix(y_test, preds4, normalize=\"true\"), 3)\n",
    "#\n",
    "# Print the confusion matrix using Matplotlib\n",
    "#\n",
    "fig, ax = plt.subplots(figsize=(4,4))\n",
    "ax.matshow(cm, cmap=plt.cm.Blues, alpha=0.3)\n",
    "for i in range(cm.shape[0]):\n",
    "    for j in range(cm.shape[1]):\n",
    "        ax.text(x=j, y=i,s=cm[i, j], va='center', ha='center', size='xx-large')\n",
    "\n",
    "plt.xlabel('Predictions', fontsize=18)\n",
    "plt.ylabel('Actuals', fontsize=18)\n",
    "plt.title('Confusion Matrix', fontsize=18)\n",
    "plt.show()"
   ]
  },
  {
   "cell_type": "code",
   "execution_count": 63,
   "metadata": {},
   "outputs": [
    {
     "name": "stdout",
     "output_type": "stream",
     "text": [
      "TEST ACCURACY FOR EPOCH 4 : 0.920583; F1 : 0.394921, ROC AUC 0.626620, Positive Preds : 1889\n"
     ]
    }
   ],
   "source": [
    "acc = accuracy_score(y_test, preds4)\n",
    "f1 = f1_score(y_test, preds4)\n",
    "auc = roc_auc_score(y_test, preds4)\n",
    "pos_preds = np.sum(all_preds.max(axis=0))\n",
    "print(f\"TEST ACCURACY FOR EPOCH 4 : {acc:.6f}; F1 : {f1:.6f}, ROC AUC {auc:.6f}, Positive Preds : {pos_preds}\")"
   ]
  },
  {
   "cell_type": "markdown",
   "metadata": {},
   "source": [
    "# While most Positive Predictions are TP, we miss most of them\n",
    "High PPV, but low recall/sensitivity\n",
    "- sensitivity, recall, hit rate, or true positive rate (TPR) : TP / P\n",
    "- specificity, selectivity or true negative rate (TNR) : TN / N\n",
    "- precision or positive predictive value (PPV) : TP / (TP + FP)\n",
    "- negative predictive value (NPV) : TN / (TN + FN)\n",
    "- F1 : 2TP / (2TP + FP + FN) ; ALSO (2 * Precision * Recall) / (Precision + Recall)"
   ]
  },
  {
   "cell_type": "markdown",
   "metadata": {},
   "source": [
    "# I wonder what would happen if we:\n",
    "- Took the union of all positive predictions from each saved model\n",
    "- Let the saved models \"vote\" in ensemble fashion"
   ]
  },
  {
   "cell_type": "code",
   "execution_count": 47,
   "metadata": {},
   "outputs": [
    {
     "data": {
      "text/plain": [
       "(10, 12000)"
      ]
     },
     "execution_count": 47,
     "metadata": {},
     "output_type": "execute_result"
    }
   ],
   "source": [
    "all_preds = np.vstack([np.round(preds[epoch]).astype(np.int32) for epoch in range(2,21,2)])\n",
    "all_preds.shape"
   ]
  },
  {
   "cell_type": "code",
   "execution_count": 101,
   "metadata": {},
   "outputs": [],
   "source": [
    "all_preds_float = np.vstack([preds[epoch] for epoch in range(2,21,2)])"
   ]
  },
  {
   "cell_type": "code",
   "execution_count": 64,
   "metadata": {},
   "outputs": [
    {
     "name": "stdout",
     "output_type": "stream",
     "text": [
      "TEST ACCURACY FOR UNION OF ALL MODELS : 0.825583; F1 : 0.322434, ROC AUC 0.643102, Positive Preds : 1889\n"
     ]
    }
   ],
   "source": [
    "acc = accuracy_score(y_test, all_preds.max(axis=0))\n",
    "f1 = f1_score(y_test, all_preds.max(axis=0))\n",
    "auc = roc_auc_score(y_test, all_preds.max(axis=0))\n",
    "pos_preds = np.sum(all_preds.max(axis=0))\n",
    "print(f\"TEST ACCURACY FOR UNION OF ALL MODELS : {acc:.6f}; F1 : {f1:.6f}, ROC AUC {auc:.6f}, Positive Preds : {pos_preds}\")"
   ]
  },
  {
   "cell_type": "code",
   "execution_count": 50,
   "metadata": {},
   "outputs": [
    {
     "data": {
      "image/png": "[encoded data removed]",
      "text/plain": [
       "<Figure size 288x288 with 1 Axes>"
      ]
     },
     "metadata": {
      "needs_background": "light"
     },
     "output_type": "display_data"
    }
   ],
   "source": [
    "cm = np.round(sklearn.metrics.confusion_matrix(y_test, all_preds.max(axis=0), normalize=\"true\"), 3)\n",
    "#\n",
    "# Print the confusion matrix using Matplotlib\n",
    "#\n",
    "fig, ax = plt.subplots(figsize=(4,4))\n",
    "ax.matshow(cm, cmap=plt.cm.Blues, alpha=0.3)\n",
    "for i in range(cm.shape[0]):\n",
    "    for j in range(cm.shape[1]):\n",
    "        ax.text(x=j, y=i,s=cm[i, j], va='center', ha='center', size='xx-large')\n",
    "\n",
    "plt.xlabel('Predictions', fontsize=18)\n",
    "plt.ylabel('Actuals', fontsize=18)\n",
    "plt.title('Confusion Matrix', fontsize=18)\n",
    "plt.show()"
   ]
  },
  {
   "cell_type": "markdown",
   "metadata": {},
   "source": [
    "# Better on positive preds, worse on negative preds, worse overall\n",
    "### Let's try voting"
   ]
  },
  {
   "cell_type": "code",
   "execution_count": 65,
   "metadata": {},
   "outputs": [
    {
     "name": "stdout",
     "output_type": "stream",
     "text": [
      "TEST ACCURACY FOR UNION OF ALL MODELS : 0.921250; F1 : 0.396937, ROC AUC 0.626991, Positive Preds : 367.0\n"
     ]
    }
   ],
   "source": [
    "acc = accuracy_score(y_test, np.round(all_preds.mean(axis=0)))\n",
    "f1 = f1_score(y_test, np.round(all_preds.mean(axis=0)))\n",
    "auc = roc_auc_score(y_test, np.round(all_preds.mean(axis=0)))\n",
    "pos_preds = np.sum(np.round(all_preds.mean(axis=0)))\n",
    "print(f\"TEST ACCURACY FOR UNION OF ALL MODELS : {acc:.6f}; F1 : {f1:.6f}, ROC AUC {auc:.6f}, Positive Preds : {pos_preds}\")"
   ]
  },
  {
   "cell_type": "code",
   "execution_count": 54,
   "metadata": {},
   "outputs": [
    {
     "data": {
      "image/png": "[encoded data removed]",
      "text/plain": [
       "<Figure size 288x288 with 1 Axes>"
      ]
     },
     "metadata": {
      "needs_background": "light"
     },
     "output_type": "display_data"
    }
   ],
   "source": [
    "cm = np.round(sklearn.metrics.confusion_matrix(y_test, np.round(all_preds.mean(axis=0)), normalize=\"true\"), 3)\n",
    "#\n",
    "# Print the confusion matrix using Matplotlib\n",
    "#\n",
    "fig, ax = plt.subplots(figsize=(4,4))\n",
    "ax.matshow(cm, cmap=plt.cm.Blues, alpha=0.3)\n",
    "for i in range(cm.shape[0]):\n",
    "    for j in range(cm.shape[1]):\n",
    "        ax.text(x=j, y=i,s=cm[i, j], va='center', ha='center', size='xx-large')\n",
    "\n",
    "plt.xlabel('Predictions', fontsize=18)\n",
    "plt.ylabel('Actuals', fontsize=18)\n",
    "plt.title('Confusion Matrix', fontsize=18)\n",
    "plt.show()"
   ]
  },
  {
   "cell_type": "markdown",
   "metadata": {},
   "source": [
    "# Try bumping up voting threshold"
   ]
  },
  {
   "cell_type": "code",
   "execution_count": 67,
   "metadata": {},
   "outputs": [
    {
     "name": "stdout",
     "output_type": "stream",
     "text": [
      "TEST ACCURACY FOR UNION OF ALL MODELS : 0.887500; F1 : 0.376155, ROC AUC 0.643796, Positive Preds : 964.0\n"
     ]
    }
   ],
   "source": [
    "THRESHOLD_INCREASE: float = 0.4\n",
    "acc = accuracy_score(y_test, np.round(all_preds.mean(axis=0)+THRESHOLD_INCREASE))\n",
    "f1 = f1_score(y_test, np.round(all_preds.mean(axis=0)+THRESHOLD_INCREASE))\n",
    "auc = roc_auc_score(y_test, np.round(all_preds.mean(axis=0)+THRESHOLD_INCREASE))\n",
    "pos_preds = np.sum(np.round(all_preds.mean(axis=0)+THRESHOLD_INCREASE))\n",
    "print(f\"TEST ACCURACY FOR UNION OF ALL MODELS : {acc:.6f}; F1 : {f1:.6f}, ROC AUC {auc:.6f}, Positive Preds : {pos_preds}\")"
   ]
  },
  {
   "cell_type": "code",
   "execution_count": 60,
   "metadata": {},
   "outputs": [
    {
     "data": {
      "image/png": "[encoded data removed]",
      "text/plain": [
       "<Figure size 288x288 with 1 Axes>"
      ]
     },
     "metadata": {
      "needs_background": "light"
     },
     "output_type": "display_data"
    }
   ],
   "source": [
    "cm = np.round(sklearn.metrics.confusion_matrix(y_test, np.round(all_preds.mean(axis=0)+THRESHOLD_INCREASE), normalize=\"true\"), 3)\n",
    "#\n",
    "# Print the confusion matrix using Matplotlib\n",
    "#\n",
    "fig, ax = plt.subplots(figsize=(4,4))\n",
    "ax.matshow(cm, cmap=plt.cm.Blues, alpha=0.3)\n",
    "for i in range(cm.shape[0]):\n",
    "    for j in range(cm.shape[1]):\n",
    "        ax.text(x=j, y=i,s=cm[i, j], va='center', ha='center', size='xx-large')\n",
    "\n",
    "plt.xlabel('Predictions', fontsize=18)\n",
    "plt.ylabel('Actuals', fontsize=18)\n",
    "plt.title('Confusion Matrix', fontsize=18)\n",
    "plt.show()"
   ]
  },
  {
   "cell_type": "markdown",
   "metadata": {},
   "source": [
    "# Does E4 with thresholding does as well as ensemble + thresholding?"
   ]
  },
  {
   "cell_type": "code",
   "execution_count": 85,
   "metadata": {},
   "outputs": [
    {
     "name": "stdout",
     "output_type": "stream",
     "text": [
      "TEST ACCURACY FOR EPOCH 4 + THRESHOLD : 0.913667; F1 : 0.401848, ROC AUC 0.636481, Positive Preds : 532\n"
     ]
    }
   ],
   "source": [
    "THRESHOLD_INCREASE = 0.2\n",
    "preds4_t = np.round(preds[4]+THRESHOLD_INCREASE).astype(np.int32)\n",
    "acc = accuracy_score(y_test, preds4_t)\n",
    "f1 = f1_score(y_test, preds4_t)\n",
    "auc = roc_auc_score(y_test, preds4_t)\n",
    "pos_preds = np.sum(preds4_t)\n",
    "print(f\"TEST ACCURACY FOR EPOCH 4 + THRESHOLD : {acc:.6f}; F1 : {f1:.6f}, ROC AUC {auc:.6f}, Positive Preds : {pos_preds}\")"
   ]
  },
  {
   "cell_type": "markdown",
   "metadata": {},
   "source": [
    "# Answer: pretty much.  \n"
   ]
  },
  {
   "cell_type": "markdown",
   "metadata": {},
   "source": [
    "# BUGFIX: ROC AUC score is calculated on the float prediction\n",
    "### My roc_auc calculations above were on int predictions.  Let's see the float scores"
   ]
  },
  {
   "cell_type": "code",
   "execution_count": 109,
   "metadata": {},
   "outputs": [
    {
     "name": "stdout",
     "output_type": "stream",
     "text": [
      "EPOCH 2 ROC AUC : 0.6956728395061729\n",
      "EPOCH 4 ROC AUC : 0.6904094521604939\n",
      "EPOCH 6 ROC AUC : 0.6639940972222222\n",
      "EPOCH 8 ROC AUC : 0.6601858796296296\n",
      "EPOCH 10 ROC AUC : 0.6562977623456789\n",
      "EPOCH 12 ROC AUC : 0.6625400848765433\n",
      "EPOCH 14 ROC AUC : 0.6578401234567901\n",
      "EPOCH 16 ROC AUC : 0.6661332947530865\n",
      "EPOCH 18 ROC AUC : 0.6778950617283952\n",
      "EPOCH 20 ROC AUC : 0.6717935570987655\n"
     ]
    }
   ],
   "source": [
    "epoch = 0\n",
    "for preds_float in all_preds_float:\n",
    "    epoch += 2\n",
    "    auc = roc_auc_score(y_test, preds_float)\n",
    "    print(f\"EPOCH {epoch} ROC AUC : {auc}\")"
   ]
  },
  {
   "cell_type": "code",
   "execution_count": 110,
   "metadata": {},
   "outputs": [
    {
     "name": "stdout",
     "output_type": "stream",
     "text": [
      "MEAN ENSEMBLE ROC AUC : 0.6971466820987654\n"
     ]
    }
   ],
   "source": [
    "auc = roc_auc_score(y_test, all_preds_float.mean(axis=0))\n",
    "print(f\"MEAN ENSEMBLE ROC AUC : {auc}\")"
   ]
  },
  {
   "cell_type": "code",
   "execution_count": 111,
   "metadata": {},
   "outputs": [
    {
     "name": "stdout",
     "output_type": "stream",
     "text": [
      "MAX ENSEMBLE ROC AUC : 0.6971937114197531\n"
     ]
    }
   ],
   "source": [
    "auc = roc_auc_score(y_test, all_preds_float.max(axis=0))\n",
    "print(f\"MAX ENSEMBLE ROC AUC : {auc}\")"
   ]
  },
  {
   "cell_type": "code",
   "execution_count": 115,
   "metadata": {},
   "outputs": [
    {
     "name": "stdout",
     "output_type": "stream",
     "text": [
      "MEAN ENSEMBLE ROC AUC : 0.6971317901234568\n"
     ]
    }
   ],
   "source": [
    "THRESHOLD_INCREASE = 0.1\n",
    "auc = roc_auc_score(y_test, np.clip(0,1,all_preds_float.mean(axis=0)+THRESHOLD_INCREASE))\n",
    "print(f\"MEAN ENSEMBLE ROC AUC : {auc}\")"
   ]
  },
  {
   "cell_type": "code",
   "execution_count": 118,
   "metadata": {},
   "outputs": [],
   "source": [
    "test_labels: pd.DataFrame = pd.read_csv(os.path.join(datadir, \"sample_submission.csv\"), index_col=0)\n",
    "def test_id_to_path(sample_id: str) -> str:\n",
    "    \"\"\" Return full path to numpy file from sample id \"\"\"\n",
    "    return os.path.join(datadir, \"test\", sample_id[0], f\"{sample_id}.npy\")"
   ]
  },
  {
   "cell_type": "markdown",
   "metadata": {},
   "source": [
    "# Not a huge difference between the different techniques"
   ]
  },
  {
   "cell_type": "code",
   "execution_count": 87,
   "metadata": {},
   "outputs": [],
   "source": [
    "class TestDataGenerator(keras.utils.Sequence):\n",
    "    def __init__(self, x_set, y_set=None, batch_size=32):\n",
    "        self.x , self.y = x_set, y_set\n",
    "        self.batch_size = batch_size\n",
    "        self.is_train = False if y_set is None else True\n",
    "        \n",
    "    def __len__(self):\n",
    "        return math.ceil(len(self.x) / self.batch_size)\n",
    "    \n",
    "    def __getitem__(self, idx):\n",
    "        batch_ids = self.x[idx * self.batch_size: (idx + 1) * self.batch_size]\n",
    "        if self.y is not None:\n",
    "            batch_y = self.y[idx * self.batch_size: (idx + 1) * self.batch_size]\n",
    "        \n",
    "        list_x = [np.load(test_id_to_path(x))[::2] for x in batch_ids]\n",
    "        batch_x = np.moveaxis(list_x,1,-1)\n",
    "        batch_x = batch_x.astype(\"float\") / 255\n",
    "        \n",
    "        if self.is_train:\n",
    "            return batch_x, batch_y\n",
    "        else:\n",
    "            return batch_x"
   ]
  },
  {
   "cell_type": "code",
   "execution_count": 94,
   "metadata": {},
   "outputs": [],
   "source": [
    "X_test_submission = test_labels['id'].values\n",
    "test_submission_data = TestDataGenerator(X_test_submission, batch_size=batch_size)"
   ]
  },
  {
   "cell_type": "code",
   "execution_count": 95,
   "metadata": {},
   "outputs": [],
   "source": [
    "model = keras.models.load_model(os.path.join(\"models\", f\"effnet_cadences_E4\"))"
   ]
  },
  {
   "cell_type": "code",
   "execution_count": 96,
   "metadata": {},
   "outputs": [],
   "source": [
    "preds_test_submission = model.predict(test_submission_data).flatten()"
   ]
  },
  {
   "cell_type": "code",
   "execution_count": 97,
   "metadata": {},
   "outputs": [],
   "source": [
    "THRESHOLD_INCREASE = 0.2\n",
    "preds4_t = np.round(preds_test_submission+THRESHOLD_INCREASE).astype(np.int32)"
   ]
  },
  {
   "cell_type": "code",
   "execution_count": 98,
   "metadata": {},
   "outputs": [
    {
     "data": {
      "text/plain": [
       "(4927, 39995)"
      ]
     },
     "execution_count": 98,
     "metadata": {},
     "output_type": "execute_result"
    }
   ],
   "source": [
    "np.sum(preds4_t), len(preds4_t)"
   ]
  },
  {
   "cell_type": "code",
   "execution_count": 119,
   "metadata": {},
   "outputs": [],
   "source": [
    "test_labels[\"target\"] = preds_test_submission"
   ]
  },
  {
   "cell_type": "code",
   "execution_count": 120,
   "metadata": {},
   "outputs": [
    {
     "data": {
      "text/html": [
       "<div>\n",
       "<style scoped>\n",
       "    .dataframe tbody tr th:only-of-type {\n",
       "        vertical-align: middle;\n",
       "    }\n",
       "\n",
       "    .dataframe tbody tr th {\n",
       "        vertical-align: top;\n",
       "    }\n",
       "\n",
       "    .dataframe thead th {\n",
       "        text-align: right;\n",
       "    }\n",
       "</style>\n",
       "<table border=\"1\" class=\"dataframe\">\n",
       "  <thead>\n",
       "    <tr style=\"text-align: right;\">\n",
       "      <th></th>\n",
       "      <th>target</th>\n",
       "    </tr>\n",
       "    <tr>\n",
       "      <th>id</th>\n",
       "      <th></th>\n",
       "    </tr>\n",
       "  </thead>\n",
       "  <tbody>\n",
       "    <tr>\n",
       "      <th>000bf832cae9ff1</th>\n",
       "      <td>0.068293</td>\n",
       "    </tr>\n",
       "    <tr>\n",
       "      <th>000c74cc71a1140</th>\n",
       "      <td>0.001906</td>\n",
       "    </tr>\n",
       "    <tr>\n",
       "      <th>000f5f9851161d3</th>\n",
       "      <td>0.100006</td>\n",
       "    </tr>\n",
       "    <tr>\n",
       "      <th>000f7499e95aba6</th>\n",
       "      <td>0.058308</td>\n",
       "    </tr>\n",
       "    <tr>\n",
       "      <th>00133ce6ec257f9</th>\n",
       "      <td>0.010594</td>\n",
       "    </tr>\n",
       "  </tbody>\n",
       "</table>\n",
       "</div>"
      ],
      "text/plain": [
       "                   target\n",
       "id                       \n",
       "000bf832cae9ff1  0.068293\n",
       "000c74cc71a1140  0.001906\n",
       "000f5f9851161d3  0.100006\n",
       "000f7499e95aba6  0.058308\n",
       "00133ce6ec257f9  0.010594"
      ]
     },
     "execution_count": 120,
     "metadata": {},
     "output_type": "execute_result"
    }
   ],
   "source": [
    "test_labels.head()"
   ]
  },
  {
   "cell_type": "code",
   "execution_count": 121,
   "metadata": {},
   "outputs": [],
   "source": [
    "test_labels.to_csv(\"submission.csv\")"
   ]
  },
  {
   "cell_type": "code",
   "execution_count": null,
   "metadata": {},
   "outputs": [],
   "source": []
  }
 ],
 "metadata": {
  "kernelspec": {
   "display_name": "kaggle3811",
   "language": "python",
   "name": "kaggle3811"
  },
  "varInspector": {
   "cols": {
    "lenName": 16,
    "lenType": 16,
    "lenVar": 40
   },
   "kernels_config": {
    "python": {
     "delete_cmd_postfix": "",
     "delete_cmd_prefix": "del ",
     "library": "var_list.py",
     "varRefreshCmd": "print(var_dic_list())"
    },
    "r": {
     "delete_cmd_postfix": ") ",
     "delete_cmd_prefix": "rm(",
     "library": "var_list.r",
     "varRefreshCmd": "cat(var_dic_list()) "
    }
   },
   "types_to_exclude": [
    "module",
    "function",
    "builtin_function_or_method",
    "instance",
    "_Feature"
   ],
   "window_display": false
  }
 },
 "nbformat": 4,
 "nbformat_minor": 2
}
